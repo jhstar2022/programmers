{
  "nbformat": 4,
  "nbformat_minor": 0,
  "metadata": {
    "colab": {
      "provenance": []
    },
    "kernelspec": {
      "name": "python3",
      "display_name": "Python 3"
    },
    "language_info": {
      "name": "python"
    }
  },
  "cells": [
    {
      "cell_type": "markdown",
      "source": [
        "##문자열 출력하기"
      ],
      "metadata": {
        "id": "MQ1ZesKAp6_k"
      }
    },
    {
      "cell_type": "markdown",
      "source": [
        "https://school.programmers.co.kr/learn/courses/30/lessons/181952?language=python3"
      ],
      "metadata": {
        "id": "X_E0futNpcqb"
      }
    },
    {
      "cell_type": "code",
      "source": [
        "str = input()\n",
        "print(str)"
      ],
      "metadata": {
        "colab": {
          "base_uri": "https://localhost:8080/"
        },
        "id": "hfXihDswp3Dq",
        "outputId": "98476fcf-3d39-440f-ef12-d579faf7dbf6"
      },
      "execution_count": 1,
      "outputs": [
        {
          "output_type": "stream",
          "name": "stdout",
          "text": [
            "\n",
            "\n"
          ]
        }
      ]
    },
    {
      "cell_type": "markdown",
      "source": [
        "##a와 b 출력하기"
      ],
      "metadata": {
        "id": "8o1-wFP6ueEp"
      }
    },
    {
      "cell_type": "markdown",
      "source": [
        "https://school.programmers.co.kr/learn/courses/30/lessons/181951"
      ],
      "metadata": {
        "id": "PBDsKQPJuP9S"
      }
    },
    {
      "cell_type": "code",
      "source": [
        "a, b = list(map(int, input().strip().split(' ')))\n",
        "print(f'a = {a} \\nb = {b}')"
      ],
      "metadata": {
        "colab": {
          "base_uri": "https://localhost:8080/"
        },
        "id": "t-iDBcv-qDAe",
        "outputId": "229f8909-fbb4-4ffa-9b9e-33b6b4a48462"
      },
      "execution_count": 13,
      "outputs": [
        {
          "output_type": "stream",
          "name": "stdout",
          "text": [
            "4 5\n",
            "a = 4 b = 5\n"
          ]
        }
      ]
    }
  ]
}